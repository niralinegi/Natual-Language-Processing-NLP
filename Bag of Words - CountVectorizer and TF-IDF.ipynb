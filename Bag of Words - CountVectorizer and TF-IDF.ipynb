{
 "cells": [
  {
   "cell_type": "markdown",
   "id": "67297035",
   "metadata": {},
   "source": [
    "Write a program to lemmatize the paragraph and convert to bag of words form (vectorize) that can be further used in ML Model"
   ]
  },
  {
   "cell_type": "code",
   "execution_count": 1,
   "id": "de0f7ee3",
   "metadata": {},
   "outputs": [],
   "source": [
    "import nltk"
   ]
  },
  {
   "cell_type": "code",
   "execution_count": 2,
   "id": "0935c47d",
   "metadata": {},
   "outputs": [],
   "source": [
    "paragraph = \"\"\" The Republican president is being challenged by Democratic Party nominee Joe Biden, who is best known as Barack Obama’s vice-president but has been in US politics since the 1970s.As election day approaches, pollingcompanies will be trying to gauge the mood of the nation by asking voters which candidate they prefer.\"\"\"\n"
   ]
  },
  {
   "cell_type": "code",
   "execution_count": 4,
   "id": "de7d04ec",
   "metadata": {},
   "outputs": [],
   "source": [
    "# import nlp libraries and pacakges\n",
    "import re\n",
    "from nltk.corpus import stopwords\n",
    "# used for stemming\n",
    "from nltk.stem.porter import PorterStemmer\n",
    "# used for lemmatization\n",
    "from nltk.stem import WordNetLemmatizer\n",
    "# used for vectorize to generate bag of words model\n",
    "from sklearn.feature_extraction.text import CountVectorizer"
   ]
  },
  {
   "cell_type": "code",
   "execution_count": 5,
   "id": "09a001f0",
   "metadata": {},
   "outputs": [],
   "source": [
    "ps = PorterStemmer()\n",
    "wordnet = WordNetLemmatizer()\n",
    "sentences = nltk.sent_tokenize(paragraph)\n",
    "corpus = []"
   ]
  },
  {
   "cell_type": "code",
   "execution_count": 7,
   "id": "c6232a29",
   "metadata": {},
   "outputs": [],
   "source": [
    "for i in range(len(sentences)):\n",
    "    review = re.sub('[^a-zA-Z]', ' ', sentences[i])\n",
    "    review = review.lower()\n",
    "    review = review.split()\n",
    "    review = [wordnet.lemmatize(word) for word in review if not word in set(stopwords.words('english'))]\n",
    "    review = ' '.join(review)\n",
    "    corpus.append(review)"
   ]
  },
  {
   "cell_type": "code",
   "execution_count": 8,
   "id": "f1dd6788",
   "metadata": {},
   "outputs": [
    {
     "data": {
      "text/plain": [
       "[' The Republican president is being challenged by Democratic Party nominee Joe Biden, who is best known as Barack Obama’s vice-president but has been in US politics since the 1970s.As election day approaches, pollingcompanies will be trying to gauge the mood of the nation by asking voters which candidate they prefer.']"
      ]
     },
     "execution_count": 8,
     "metadata": {},
     "output_type": "execute_result"
    }
   ],
   "source": [
    "sentences"
   ]
  },
  {
   "cell_type": "markdown",
   "id": "0419a9ad",
   "metadata": {},
   "source": [
    "<b> All the character other than letters have been removed, stopwords are removed and words are converted to their Lemma form </b>"
   ]
  },
  {
   "cell_type": "code",
   "execution_count": 9,
   "id": "b9a3e175",
   "metadata": {},
   "outputs": [
    {
     "data": {
      "text/plain": [
       "['republican president challenged democratic party nominee joe biden best known barack obama vice president u politics since election day approach pollingcompanies trying gauge mood nation asking voter candidate prefer']"
      ]
     },
     "execution_count": 9,
     "metadata": {},
     "output_type": "execute_result"
    }
   ],
   "source": [
    "corpus"
   ]
  },
  {
   "cell_type": "code",
   "execution_count": 10,
   "id": "08585954",
   "metadata": {},
   "outputs": [],
   "source": [
    "# Creating the Bag of words model"
   ]
  },
  {
   "cell_type": "code",
   "execution_count": 12,
   "id": "92b33598",
   "metadata": {},
   "outputs": [],
   "source": [
    "cv = CountVectorizer(max_features = 1500)\n",
    "X = cv.fit_transform(corpus).toarray()"
   ]
  },
  {
   "cell_type": "code",
   "execution_count": 13,
   "id": "f39c9adb",
   "metadata": {},
   "outputs": [
    {
     "data": {
      "text/plain": [
       "array([[1, 1, 1, 1, 1, 1, 1, 1, 1, 1, 1, 1, 1, 1, 1, 1, 1, 1, 1, 1, 1, 2,\n",
       "        1, 1, 1, 1, 1]], dtype=int64)"
      ]
     },
     "execution_count": 13,
     "metadata": {},
     "output_type": "execute_result"
    }
   ],
   "source": [
    "X"
   ]
  },
  {
   "cell_type": "code",
   "execution_count": 14,
   "id": "18686c4b",
   "metadata": {},
   "outputs": [],
   "source": [
    "# Apply TF-IDF model\n",
    "from sklearn.feature_extraction.text import TfidfVectorizer"
   ]
  },
  {
   "cell_type": "code",
   "execution_count": 15,
   "id": "1c82d5ba",
   "metadata": {},
   "outputs": [],
   "source": [
    "cv2 = TfidfVectorizer()\n",
    "X_tfidf = cv2.fit_transform(corpus).toarray()"
   ]
  },
  {
   "cell_type": "code",
   "execution_count": 16,
   "id": "0575f2e4",
   "metadata": {},
   "outputs": [
    {
     "data": {
      "text/plain": [
       "array([[0.18257419, 0.18257419, 0.18257419, 0.18257419, 0.18257419,\n",
       "        0.18257419, 0.18257419, 0.18257419, 0.18257419, 0.18257419,\n",
       "        0.18257419, 0.18257419, 0.18257419, 0.18257419, 0.18257419,\n",
       "        0.18257419, 0.18257419, 0.18257419, 0.18257419, 0.18257419,\n",
       "        0.18257419, 0.36514837, 0.18257419, 0.18257419, 0.18257419,\n",
       "        0.18257419, 0.18257419]])"
      ]
     },
     "execution_count": 16,
     "metadata": {},
     "output_type": "execute_result"
    }
   ],
   "source": [
    "X_tfidf"
   ]
  },
  {
   "cell_type": "code",
   "execution_count": null,
   "id": "efe15bf4",
   "metadata": {},
   "outputs": [],
   "source": []
  }
 ],
 "metadata": {
  "kernelspec": {
   "display_name": "Python 3",
   "language": "python",
   "name": "python3"
  },
  "language_info": {
   "codemirror_mode": {
    "name": "ipython",
    "version": 3
   },
   "file_extension": ".py",
   "mimetype": "text/x-python",
   "name": "python",
   "nbconvert_exporter": "python",
   "pygments_lexer": "ipython3",
   "version": "3.8.8"
  }
 },
 "nbformat": 4,
 "nbformat_minor": 5
}
