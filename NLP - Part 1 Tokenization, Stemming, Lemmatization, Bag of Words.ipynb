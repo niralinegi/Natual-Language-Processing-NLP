{
 "cells": [
  {
   "cell_type": "code",
   "execution_count": 16,
   "id": "09cb189d",
   "metadata": {},
   "outputs": [
    {
     "name": "stderr",
     "output_type": "stream",
     "text": [
      "[nltk_data] Downloading package stopwords to\n",
      "[nltk_data]     C:\\Users\\Nirali\\AppData\\Roaming\\nltk_data...\n",
      "[nltk_data]   Package stopwords is already up-to-date!\n",
      "[nltk_data] Downloading package wordnet to\n",
      "[nltk_data]     C:\\Users\\Nirali\\AppData\\Roaming\\nltk_data...\n",
      "[nltk_data]   Unzipping corpora\\wordnet.zip.\n"
     ]
    },
    {
     "data": {
      "text/plain": [
       "True"
      ]
     },
     "execution_count": 16,
     "metadata": {},
     "output_type": "execute_result"
    }
   ],
   "source": [
    "import nltk\n",
    "from nltk.stem import PorterStemmer\n",
    "from nltk.corpus import stopwords\n",
    "from nltk.stem import WordNetLemmatizer\n",
    "nltk.download('stopwords')\n",
    "nltk.download('wordnet')"
   ]
  },
  {
   "cell_type": "code",
   "execution_count": 2,
   "id": "9640e77c",
   "metadata": {},
   "outputs": [],
   "source": [
    "paragraph = \"\"\"\n",
    "Manchester City Football Club is an English football club based in Manchester that competes in the Premier League, the top flight of English football. Founded in 1880 as St. Mark's (West Gorton), it became Ardwick Association Football Club in 1887 and Manchester City in 1894. The club's home ground is the Etihad Stadium in east Manchester, to which it moved in 2003, having played at Maine Road since 1923. The club adopted their sky blue home shirts in 1894 in the first season of the club's current iteration, and have been used ever since.[4]\n",
    "\n",
    "Manchester City entered the Football League in 1892, and won their first major honour with the FA Cup in 1904. The club had its first major period of success in the late 1960s, winning the League, European Cup Winners Cup, FA Cup and League Cup under the management of Joe Mercer and Malcolm Allison. After losing the 1981 FA Cup Final, the club went through a period of decline, culminating in relegation to the third tier of English football for the only time in its history in 1998. They since regained promotion to the top tier in 2001–02 and have remained a fixture in the Premier League since 2002–03.\n",
    "\n",
    "In 2008, Manchester City was purchased by Abu Dhabi United Group for £210 million and received considerable financial investment in both playing staff and club facilities, including the £150 million Etihad Campus in east Manchester.[5] Under the management of Pep Guardiola, the team won the Premier League in 2018, becoming the only Premier League team to attain 100 points in a single season. In 2019, they won four trophies, completing an unprecedented sweep of all domestic trophies in England and becoming the first English men's team to win the domestic treble.[6]\n",
    "\n",
    "Manchester City's revenue was the fifth-highest of a football club in the world in the 2018–19 season at €568.4 million.[7] In 2019, Forbes estimated the club was the fifth most valuable in the world at $2.69 billion.[8] The club is owned by the City Football Group, a British-based[9] holding company valued at £3.73 (US$4.8) billion in November 2019 following a 10% stake sale to Silver Lake.\n",
    "\"\"\""
   ]
  },
  {
   "cell_type": "code",
   "execution_count": 4,
   "id": "a35f9681",
   "metadata": {},
   "outputs": [],
   "source": [
    "sentences = nltk.sent_tokenize(paragraph)\n",
    "stemmer = PorterStemmer()"
   ]
  },
  {
   "cell_type": "code",
   "execution_count": 7,
   "id": "8732a8db",
   "metadata": {},
   "outputs": [],
   "source": [
    "# stemming\n",
    "\n",
    "for i in range(len(sentences)):\n",
    "    words = nltk.word_tokenize(sentences[i])\n",
    "    words = [stemmer.stem(word) for word in words if word not in set(stopwords.words('english'))]\n",
    "    sentences[i] = ' '.join(words)"
   ]
  },
  {
   "cell_type": "code",
   "execution_count": 8,
   "id": "cb5d6857",
   "metadata": {},
   "outputs": [
    {
     "data": {
      "text/plain": [
       "['manchest citi footbal club english footbal club base manchest compet premier leagu , top flight english footbal .',\n",
       " \"found 1880 st. mark 's ( west gorton ) , becam ardwick associ footbal club 1887 manchest citi 1894 .\",\n",
       " \"the club 's home ground etihad stadium east manchest , move 2003 , play main road sinc 1923 .\",\n",
       " \"the club adopt sky blue home shirt 1894 first season club 's current iter , use ever sinc .\",\n",
       " '[ 4 ] manchest citi enter footbal leagu 1892 , first major honour fa cup 1904 .',\n",
       " 'the club first major period success late 1960 , win leagu , european cup winner cup , fa cup leagu cup manag joe mercer malcolm allison .',\n",
       " 'after lose 1981 fa cup final , club went period declin , culmin releg third tier english footbal time histori 1998 .',\n",
       " 'they sinc regain promot top tier 2001–02 remain fixtur premier leagu sinc 2002–03 .',\n",
       " 'in 2008 , manchest citi purchas abu dhabi unit group £210 million receiv consider financi invest play staff club facil , includ £150 million etihad campu east manchest .',\n",
       " '[ 5 ] under manag pep guardiola , team premier leagu 2018 , becom premier leagu team attain 100 point singl season .',\n",
       " \"in 2019 , four trophi , complet unpreced sweep domest trophi england becom first english men 's team win domest trebl .\",\n",
       " \"[ 6 ] manchest citi 's revenu fifth-highest footbal club world 2018–19 season €568.4 million .\",\n",
       " '[ 7 ] in 2019 , forb estim club fifth valuabl world $ 2.69 billion .',\n",
       " '[ 8 ] the club own citi footbal group , british-bas [ 9 ] hold compani valu £3.73 ( us $ 4.8 ) billion novemb 2019 follow 10 % stake sale silver lake .']"
      ]
     },
     "execution_count": 8,
     "metadata": {},
     "output_type": "execute_result"
    }
   ],
   "source": [
    "sentences"
   ]
  },
  {
   "cell_type": "markdown",
   "id": "7349dabb",
   "metadata": {},
   "source": [
    "Problems with Stemming is that the stemmed words do not make any sense and are not meaninful. Lemmatization solves this problem"
   ]
  },
  {
   "cell_type": "code",
   "execution_count": 9,
   "id": "579a999e",
   "metadata": {},
   "outputs": [],
   "source": [
    "# Lemmatization"
   ]
  },
  {
   "cell_type": "code",
   "execution_count": 19,
   "id": "bf37d468",
   "metadata": {},
   "outputs": [],
   "source": [
    "paragraph = \"\"\"\n",
    "Manchester City Football Club is an English football club based in Manchester that competes in the Premier League, the top flight of English football. Founded in 1880 as St. Mark's (West Gorton), it became Ardwick Association Football Club in 1887 and Manchester City in 1894. The club's home ground is the Etihad Stadium in east Manchester, to which it moved in 2003, having played at Maine Road since 1923. The club adopted their sky blue home shirts in 1894 in the first season of the club's current iteration, and have been used ever since.[4]\n",
    "\n",
    "Manchester City entered the Football League in 1892, and won their first major honour with the FA Cup in 1904. The club had its first major period of success in the late 1960s, winning the League, European Cup Winners Cup, FA Cup and League Cup under the management of Joe Mercer and Malcolm Allison. After losing the 1981 FA Cup Final, the club went through a period of decline, culminating in relegation to the third tier of English football for the only time in its history in 1998. They since regained promotion to the top tier in 2001–02 and have remained a fixture in the Premier League since 2002–03.\n",
    "\n",
    "In 2008, Manchester City was purchased by Abu Dhabi United Group for £210 million and received considerable financial investment in both playing staff and club facilities, including the £150 million Etihad Campus in east Manchester.[5] Under the management of Pep Guardiola, the team won the Premier League in 2018, becoming the only Premier League team to attain 100 points in a single season. In 2019, they won four trophies, completing an unprecedented sweep of all domestic trophies in England and becoming the first English men's team to win the domestic treble.[6]\n",
    "\n",
    "Manchester City's revenue was the fifth-highest of a football club in the world in the 2018–19 season at €568.4 million.[7] In 2019, Forbes estimated the club was the fifth most valuable in the world at $2.69 billion.[8] The club is owned by the City Football Group, a British-based[9] holding company valued at £3.73 (US$4.8) billion in November 2019 following a 10% stake sale to Silver Lake.\n",
    "\"\"\""
   ]
  },
  {
   "cell_type": "code",
   "execution_count": 20,
   "id": "26ea7ea3",
   "metadata": {},
   "outputs": [],
   "source": [
    "sentences = nltk.sent_tokenize(paragraph)\n",
    "stemmer = PorterStemmer()"
   ]
  },
  {
   "cell_type": "code",
   "execution_count": 21,
   "id": "6d6d899d",
   "metadata": {},
   "outputs": [],
   "source": [
    "lemmatizer = WordNetLemmatizer()"
   ]
  },
  {
   "cell_type": "code",
   "execution_count": 22,
   "id": "b59e1b6d",
   "metadata": {},
   "outputs": [],
   "source": [
    "for i in range(len(sentences)):\n",
    "    words = nltk.word_tokenize(sentences[i])\n",
    "    words = [lemmatizer.lemmatize(word) for word in words if word not in set(stopwords.words('english'))]\n",
    "    sentences[i] = ' '.join(words)"
   ]
  },
  {
   "cell_type": "code",
   "execution_count": 23,
   "id": "28bda2c6",
   "metadata": {},
   "outputs": [
    {
     "data": {
      "text/plain": [
       "['Manchester City Football Club English football club based Manchester competes Premier League , top flight English football .',\n",
       " \"Founded 1880 St. Mark 's ( West Gorton ) , became Ardwick Association Football Club 1887 Manchester City 1894 .\",\n",
       " \"The club 's home ground Etihad Stadium east Manchester , moved 2003 , played Maine Road since 1923 .\",\n",
       " \"The club adopted sky blue home shirt 1894 first season club 's current iteration , used ever since .\",\n",
       " '[ 4 ] Manchester City entered Football League 1892 , first major honour FA Cup 1904 .',\n",
       " 'The club first major period success late 1960s , winning League , European Cup Winners Cup , FA Cup League Cup management Joe Mercer Malcolm Allison .',\n",
       " 'After losing 1981 FA Cup Final , club went period decline , culminating relegation third tier English football time history 1998 .',\n",
       " 'They since regained promotion top tier 2001–02 remained fixture Premier League since 2002–03 .',\n",
       " 'In 2008 , Manchester City purchased Abu Dhabi United Group £210 million received considerable financial investment playing staff club facility , including £150 million Etihad Campus east Manchester .',\n",
       " '[ 5 ] Under management Pep Guardiola , team Premier League 2018 , becoming Premier League team attain 100 point single season .',\n",
       " \"In 2019 , four trophy , completing unprecedented sweep domestic trophy England becoming first English men 's team win domestic treble .\",\n",
       " \"[ 6 ] Manchester City 's revenue fifth-highest football club world 2018–19 season €568.4 million .\",\n",
       " '[ 7 ] In 2019 , Forbes estimated club fifth valuable world $ 2.69 billion .',\n",
       " '[ 8 ] The club owned City Football Group , British-based [ 9 ] holding company valued £3.73 ( US $ 4.8 ) billion November 2019 following 10 % stake sale Silver Lake .']"
      ]
     },
     "execution_count": 23,
     "metadata": {},
     "output_type": "execute_result"
    }
   ],
   "source": [
    "sentences"
   ]
  },
  {
   "cell_type": "code",
   "execution_count": null,
   "id": "06765980",
   "metadata": {},
   "outputs": [],
   "source": []
  }
 ],
 "metadata": {
  "kernelspec": {
   "display_name": "Python 3",
   "language": "python",
   "name": "python3"
  },
  "language_info": {
   "codemirror_mode": {
    "name": "ipython",
    "version": 3
   },
   "file_extension": ".py",
   "mimetype": "text/x-python",
   "name": "python",
   "nbconvert_exporter": "python",
   "pygments_lexer": "ipython3",
   "version": "3.8.8"
  }
 },
 "nbformat": 4,
 "nbformat_minor": 5
}
