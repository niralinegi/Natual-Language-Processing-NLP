{
 "cells": [
  {
   "cell_type": "markdown",
   "id": "e94cb035",
   "metadata": {},
   "source": [
    "### Features\n",
    "    - Noun phrase extraction\n",
    "    - POS tagging\n",
    "    - Sentiment analysis\n",
    "    - Language translation\n",
    "    - Tokenization\n",
    "    - Word and phrase frequency\n",
    "    - World inflection (pluralization and singularisation) and lemmatization\n",
    "    - Spelling correction"
   ]
  },
  {
   "cell_type": "code",
   "execution_count": 1,
   "id": "13f28a17",
   "metadata": {},
   "outputs": [
    {
     "name": "stdout",
     "output_type": "stream",
     "text": [
      "Collecting textblob\n",
      "  Downloading textblob-0.15.3-py2.py3-none-any.whl (636 kB)\n",
      "Requirement already satisfied: nltk>=3.1 in c:\\users\\nirali\\anaconda\\lib\\site-packages (from textblob) (3.6.1)\n",
      "Requirement already satisfied: tqdm in c:\\users\\nirali\\anaconda\\lib\\site-packages (from nltk>=3.1->textblob) (4.59.0)\n",
      "Requirement already satisfied: click in c:\\users\\nirali\\anaconda\\lib\\site-packages (from nltk>=3.1->textblob) (7.1.2)\n",
      "Requirement already satisfied: regex in c:\\users\\nirali\\anaconda\\lib\\site-packages (from nltk>=3.1->textblob) (2021.4.4)\n",
      "Requirement already satisfied: joblib in c:\\users\\nirali\\anaconda\\lib\\site-packages (from nltk>=3.1->textblob) (1.0.1)\n",
      "Installing collected packages: textblob\n",
      "Successfully installed textblob-0.15.3\n"
     ]
    }
   ],
   "source": [
    "pip install textblob"
   ]
  },
  {
   "cell_type": "code",
   "execution_count": 2,
   "id": "4249fc64",
   "metadata": {},
   "outputs": [
    {
     "name": "stdout",
     "output_type": "stream",
     "text": [
      "Finished.\n"
     ]
    },
    {
     "name": "stderr",
     "output_type": "stream",
     "text": [
      "[nltk_data] Downloading package brown to\n",
      "[nltk_data]     C:\\Users\\Nirali\\AppData\\Roaming\\nltk_data...\n",
      "[nltk_data]   Unzipping corpora\\brown.zip.\n",
      "[nltk_data] Downloading package punkt to\n",
      "[nltk_data]     C:\\Users\\Nirali\\AppData\\Roaming\\nltk_data...\n",
      "[nltk_data]   Package punkt is already up-to-date!\n",
      "[nltk_data] Downloading package wordnet to\n",
      "[nltk_data]     C:\\Users\\Nirali\\AppData\\Roaming\\nltk_data...\n",
      "[nltk_data]   Package wordnet is already up-to-date!\n",
      "[nltk_data] Downloading package averaged_perceptron_tagger to\n",
      "[nltk_data]     C:\\Users\\Nirali\\AppData\\Roaming\\nltk_data...\n",
      "[nltk_data]   Package averaged_perceptron_tagger is already up-to-\n",
      "[nltk_data]       date!\n",
      "[nltk_data] Downloading package conll2000 to\n",
      "[nltk_data]     C:\\Users\\Nirali\\AppData\\Roaming\\nltk_data...\n",
      "[nltk_data]   Unzipping corpora\\conll2000.zip.\n",
      "[nltk_data] Downloading package movie_reviews to\n",
      "[nltk_data]     C:\\Users\\Nirali\\AppData\\Roaming\\nltk_data...\n",
      "[nltk_data]   Unzipping corpora\\movie_reviews.zip.\n"
     ]
    }
   ],
   "source": [
    "!python -m textblob.download_corpora"
   ]
  },
  {
   "cell_type": "code",
   "execution_count": 3,
   "id": "644d7cb0",
   "metadata": {},
   "outputs": [],
   "source": [
    "from textblob import TextBlob"
   ]
  },
  {
   "cell_type": "code",
   "execution_count": 4,
   "id": "863e62cc",
   "metadata": {},
   "outputs": [],
   "source": [
    "data = TextBlob('I love Natural Langugage Processing, not you!')"
   ]
  },
  {
   "cell_type": "code",
   "execution_count": 5,
   "id": "a82de963",
   "metadata": {},
   "outputs": [
    {
     "data": {
      "text/plain": [
       "[('I', 'PRP'),\n",
       " ('love', 'VBP'),\n",
       " ('Natural', 'JJ'),\n",
       " ('Langugage', 'NNP'),\n",
       " ('Processing', 'NNP'),\n",
       " ('not', 'RB'),\n",
       " ('you', 'PRP')]"
      ]
     },
     "execution_count": 5,
     "metadata": {},
     "output_type": "execute_result"
    }
   ],
   "source": [
    "# pos tagging\n",
    "data.tags"
   ]
  },
  {
   "cell_type": "code",
   "execution_count": 8,
   "id": "e2f394b4",
   "metadata": {},
   "outputs": [
    {
     "data": {
      "text/plain": [
       "WordList(['langugage processing'])"
      ]
     },
     "execution_count": 8,
     "metadata": {},
     "output_type": "execute_result"
    }
   ],
   "source": [
    "# noun phrase exrtaction\n",
    "data.noun_phrases"
   ]
  },
  {
   "cell_type": "markdown",
   "id": "c5a7ae3e",
   "metadata": {},
   "source": [
    "### Tokenization"
   ]
  },
  {
   "cell_type": "code",
   "execution_count": 10,
   "id": "04140d05",
   "metadata": {},
   "outputs": [
    {
     "data": {
      "text/plain": [
       "WordList(['I', 'love', 'Natural', 'Langugage', 'Processing', 'not', 'you'])"
      ]
     },
     "execution_count": 10,
     "metadata": {},
     "output_type": "execute_result"
    }
   ],
   "source": [
    "# words\n",
    "data.words"
   ]
  },
  {
   "cell_type": "code",
   "execution_count": 11,
   "id": "95f01390",
   "metadata": {},
   "outputs": [
    {
     "data": {
      "text/plain": [
       "[Sentence(\"I love Natural Langugage Processing, not you!\")]"
      ]
     },
     "execution_count": 11,
     "metadata": {},
     "output_type": "execute_result"
    }
   ],
   "source": [
    "# sentence\n",
    "data.sentences"
   ]
  },
  {
   "cell_type": "code",
   "execution_count": 14,
   "id": "e1372e7b",
   "metadata": {},
   "outputs": [],
   "source": [
    "# Word inflection\n",
    "sent = TextBlob('Use 4 spaces per indentation level.')"
   ]
  },
  {
   "cell_type": "code",
   "execution_count": 15,
   "id": "105895cf",
   "metadata": {},
   "outputs": [
    {
     "data": {
      "text/plain": [
       "WordList(['Use', '4', 'spaces', 'per', 'indentation', 'level'])"
      ]
     },
     "execution_count": 15,
     "metadata": {},
     "output_type": "execute_result"
    }
   ],
   "source": [
    "sent.words"
   ]
  },
  {
   "cell_type": "code",
   "execution_count": 19,
   "id": "553d326c",
   "metadata": {},
   "outputs": [
    {
     "data": {
      "text/plain": [
       "'levels'"
      ]
     },
     "execution_count": 19,
     "metadata": {},
     "output_type": "execute_result"
    }
   ],
   "source": [
    "sent.words[-1].pluralize()"
   ]
  },
  {
   "cell_type": "code",
   "execution_count": 22,
   "id": "b3505a35",
   "metadata": {},
   "outputs": [
    {
     "data": {
      "text/plain": [
       "'space'"
      ]
     },
     "execution_count": 22,
     "metadata": {},
     "output_type": "execute_result"
    }
   ],
   "source": [
    "sent.words[2].singularize()"
   ]
  },
  {
   "cell_type": "code",
   "execution_count": 23,
   "id": "2385a6b4",
   "metadata": {},
   "outputs": [
    {
     "data": {
      "text/plain": [
       "'histori'"
      ]
     },
     "execution_count": 23,
     "metadata": {},
     "output_type": "execute_result"
    }
   ],
   "source": [
    "# stemming\n",
    "from textblob import Word\n",
    "\n",
    "q = Word('history')\n",
    "q.stem()"
   ]
  },
  {
   "cell_type": "code",
   "execution_count": 24,
   "id": "cba3b172",
   "metadata": {},
   "outputs": [
    {
     "data": {
      "text/plain": [
       "'ran'"
      ]
     },
     "execution_count": 24,
     "metadata": {},
     "output_type": "execute_result"
    }
   ],
   "source": [
    "# lemma\n",
    "q = Word('ran')\n",
    "q.lemmatize()"
   ]
  },
  {
   "cell_type": "code",
   "execution_count": 28,
   "id": "18ea3b6d",
   "metadata": {},
   "outputs": [
    {
     "data": {
      "text/plain": [
       "['ellipse in which the two axes are of equal length; a plane curve generated by one point moving at a constant distance from a fixed point',\n",
       " 'an unofficial association of people or groups',\n",
       " 'something approximating the shape of a circle']"
      ]
     },
     "execution_count": 28,
     "metadata": {},
     "output_type": "execute_result"
    }
   ],
   "source": [
    "# Meaning of the word\n",
    "\n",
    "Word('circle').definitions[:3]"
   ]
  },
  {
   "cell_type": "code",
   "execution_count": 35,
   "id": "13e3d499",
   "metadata": {},
   "outputs": [
    {
     "data": {
      "text/plain": [
       "TextBlob(\"An you pronounce CzekusLovakia\")"
      ]
     },
     "execution_count": 35,
     "metadata": {},
     "output_type": "execute_result"
    }
   ],
   "source": [
    "# Spelling correction\n",
    "g = TextBlob('Can you pronounce CzekusLovakia')\n",
    "g.correct()"
   ]
  },
  {
   "cell_type": "code",
   "execution_count": 34,
   "id": "2d3fd34a",
   "metadata": {},
   "outputs": [
    {
     "data": {
      "text/plain": [
       "[('CzekusLovakia', 0.0)]"
      ]
     },
     "execution_count": 34,
     "metadata": {},
     "output_type": "execute_result"
    }
   ],
   "source": [
    "k = Word('CzekusLovakia')\n",
    "k.spellcheck()"
   ]
  },
  {
   "cell_type": "code",
   "execution_count": 37,
   "id": "cf0a127b",
   "metadata": {},
   "outputs": [
    {
     "name": "stdout",
     "output_type": "stream",
     "text": [
      "[('An', 0.5222764723832773), ('Man', 0.25205981080256334), ('Can', 0.1670735428745804), ('Ran', 0.049130302105584375), ('San', 0.003051571559353067), ('Van', 0.0028989929813854134), ('Fan', 0.0012206286237412267), ('Ban', 0.00091547146780592), ('Pan', 0.0006103143118706134), ('Dan', 0.0003051571559353067), ('Wan', 0.00015257857796765334), ('Nan', 0.00015257857796765334), ('Jan', 0.00015257857796765334)]\n",
      "Please select a word.can\n"
     ]
    },
    {
     "data": {
      "text/plain": [
       "['can', 'you', 'pronounce', 'CzekusLovakia']"
      ]
     },
     "execution_count": 37,
     "metadata": {},
     "output_type": "execute_result"
    }
   ],
   "source": [
    "# we got An instead of Can. WAP to correct it.\n",
    "\n",
    "g = TextBlob('Can you pronounce CzekusLovakia')\n",
    "properList = []\n",
    "for i in g.words:\n",
    "    if len(Word(i).spellcheck()) > 1:\n",
    "        print(Word(i).spellcheck())\n",
    "        new_word = input('Please select a word.')\n",
    "        properList.append(new_word)\n",
    "    else:\n",
    "        properList.append(i)\n",
    "        \n",
    "properList"
   ]
  },
  {
   "cell_type": "code",
   "execution_count": 41,
   "id": "33dc1974",
   "metadata": {},
   "outputs": [
    {
     "data": {
      "text/plain": [
       "1"
      ]
     },
     "execution_count": 41,
     "metadata": {},
     "output_type": "execute_result"
    }
   ],
   "source": [
    "# Word count\n",
    "sent = TextBlob('She sells sea shells on the sea shore.') \n",
    "# this entire sentence gets converted to lowercase. \n",
    "# Hence if you pass ['She'] then it will return 0\n",
    "sent.word_counts['she']"
   ]
  },
  {
   "cell_type": "code",
   "execution_count": 44,
   "id": "63a0b267",
   "metadata": {},
   "outputs": [
    {
     "data": {
      "text/plain": [
       "1"
      ]
     },
     "execution_count": 44,
     "metadata": {},
     "output_type": "execute_result"
    }
   ],
   "source": [
    "sent.words.count('She', case_sensitive=True)"
   ]
  },
  {
   "cell_type": "code",
   "execution_count": 45,
   "id": "01b08ef2",
   "metadata": {},
   "outputs": [
    {
     "data": {
      "text/plain": [
       "TextBlob(\"कुछ नहीं से कुछ भला।\")"
      ]
     },
     "execution_count": 45,
     "metadata": {},
     "output_type": "execute_result"
    }
   ],
   "source": [
    "# Translation and language detection\n",
    "\n",
    "blob = TextBlob('Something is better than nothing.')\n",
    "blob.translate(to='hi')"
   ]
  },
  {
   "cell_type": "code",
   "execution_count": 46,
   "id": "35f8bc4e",
   "metadata": {},
   "outputs": [
    {
     "data": {
      "text/plain": [
       "TextBlob(\"કંઇ કરતાં કંઇક સારું છે.\")"
      ]
     },
     "execution_count": 46,
     "metadata": {},
     "output_type": "execute_result"
    }
   ],
   "source": [
    "blob.translate(to='gu')"
   ]
  },
  {
   "cell_type": "markdown",
   "id": "ffabae2d",
   "metadata": {},
   "source": [
    "https://cloud.google.com/translate/docs/languages"
   ]
  },
  {
   "cell_type": "code",
   "execution_count": 48,
   "id": "8421b3b9",
   "metadata": {},
   "outputs": [
    {
     "data": {
      "text/plain": [
       "'en'"
      ]
     },
     "execution_count": 48,
     "metadata": {},
     "output_type": "execute_result"
    }
   ],
   "source": [
    "# language detection\n",
    "blob = TextBlob('Something is better than nothing.')\n",
    "blob.detect_language()"
   ]
  },
  {
   "cell_type": "code",
   "execution_count": 49,
   "id": "fad16729",
   "metadata": {},
   "outputs": [
    {
     "data": {
      "text/plain": [
       "'gu'"
      ]
     },
     "execution_count": 49,
     "metadata": {},
     "output_type": "execute_result"
    }
   ],
   "source": [
    "blob = TextBlob('કંઇ કરતાં કંઇક સારું છે.')\n",
    "blob.detect_language()"
   ]
  },
  {
   "cell_type": "code",
   "execution_count": null,
   "id": "7b2ec6e7",
   "metadata": {},
   "outputs": [],
   "source": []
  }
 ],
 "metadata": {
  "kernelspec": {
   "display_name": "Python 3",
   "language": "python",
   "name": "python3"
  },
  "language_info": {
   "codemirror_mode": {
    "name": "ipython",
    "version": 3
   },
   "file_extension": ".py",
   "mimetype": "text/x-python",
   "name": "python",
   "nbconvert_exporter": "python",
   "pygments_lexer": "ipython3",
   "version": "3.8.8"
  }
 },
 "nbformat": 4,
 "nbformat_minor": 5
}
